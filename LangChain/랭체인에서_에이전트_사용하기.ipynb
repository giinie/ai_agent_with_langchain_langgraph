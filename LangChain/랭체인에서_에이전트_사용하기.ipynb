{
 "nbformat": 4,
 "nbformat_minor": 0,
 "metadata": {
  "colab": {
   "provenance": []
  },
  "kernelspec": {
   "name": "python3",
   "display_name": "Python 3"
  },
  "language_info": {
   "name": "python"
  }
 },
 "cells": [
  {
   "cell_type": "code",
   "metadata": {
    "colab": {
     "base_uri": "https://localhost:8080/"
    },
    "id": "mzJURCUDJWcg",
    "outputId": "cf9c7dfb-1033-4ae4-a08a-ad942ade3935"
   },
   "source": [
    "!pip install langchain openai wikipedia langchain-community \"httpx==0.27.2\""
   ],
   "outputs": [],
   "execution_count": null
  },
  {
   "cell_type": "code",
   "source": [
    "import os\n",
    "from langchain.chat_models import ChatOpenAI\n",
    "os.environ[\"OPENAI_API_KEY\"] = \"sk\" # sk-로 시작하는 API 키를 입력하세요\n",
    "\n",
    "llm = ChatOpenAI(model=\"gpt-4o-2024-11-20\")"
   ],
   "metadata": {
    "id": "ao35vlRiJjSs",
    "colab": {
     "base_uri": "https://localhost:8080/"
    },
    "outputId": "e6cc209a-e442-4d54-c7ef-8d779b2e1b07"
   },
   "outputs": [],
   "execution_count": null
  },
  {
   "cell_type": "code",
   "source": [
    "#제로샷 ReAct 에이전트\n",
    "from langchain.agents import initialize_agent, load_tools, AgentType\n",
    "tools = load_tools([\"wikipedia\", \"llm-math\"], llm=llm)"
   ],
   "metadata": {
    "id": "RXcTlqftJjVt"
   },
   "outputs": [],
   "execution_count": null
  },
  {
   "cell_type": "code",
   "source": [
    "agent = initialize_agent(tools , llm, agent=AgentType.ZERO_SHOT_REACT_DESCRIPTION, handle_parsing_errors=True, verbose=True) # 대화형 에이전트를 초기화\n",
    "agent.invoke(\"소나무 옮겨심기 좋은 계절은?\") # 에이전트에게 질문을 전달하고 답변을 생성하도록 실행"
   ],
   "metadata": {
    "colab": {
     "base_uri": "https://localhost:8080/"
    },
    "id": "F5HtA94OKCu_",
    "outputId": "dd4a3a03-5809-4782-baff-410190f343d3"
   },
   "outputs": [],
   "execution_count": null
  },
  {
   "cell_type": "code",
   "source": [
    "#Conversational ReAct\n",
    "from langchain.memory import ConversationBufferMemory\n",
    "tools = load_tools([\"llm-math\"],  llm=llm) # 에이전트가 사용할 도구 지정, 수학 관련 문제를 해결하는 도구\n",
    "memory = ConversationBufferMemory(memory_key=\"chat_history\") # 대화 기록을 저장할 키를 지정\n",
    "conversational_agent = initialize_agent(\n",
    "    agent='conversational-react-description',\n",
    "    tools=tools,\n",
    "    llm=llm,\n",
    "    verbose=True, # 디버깅 목적으로 에이전트의 내부 동작을 출력\n",
    "    max_iterations=3, # 에이전트가 질문을 해결하기 위해 도구를 사용할 수 있는 최대 반복 횟수를 3으로 지\n",
    "    memory=memory,)\n",
    "conversational_agent.invoke(\"에드시런은 누구이며 2025년 현재 나이는 몇살이야?\")"
   ],
   "metadata": {
    "colab": {
     "base_uri": "https://localhost:8080/"
    },
    "id": "VCNJzr7yK8IX",
    "outputId": "438cd3ea-9068-49a6-ddb8-79fcda5db614"
   },
   "outputs": [],
   "execution_count": null
  },
  {
   "cell_type": "code",
   "source": [
    "#Self Ask With Search Agent 사용\n",
    "from langchain import hub\n",
    "from langchain.agents import AgentExecutor, create_self_ask_with_search_agent\n",
    "from langchain_community.tools.tavily_search import TavilyAnswer"
   ],
   "metadata": {
    "id": "rhNVBvik6c79"
   },
   "outputs": [],
   "execution_count": null
  },
  {
   "cell_type": "code",
   "source": [
    "import os\n",
    "os.environ[\"TAVILY_API_KEY\"] = \"tvly\" # tvly로 시작하는 API 키를 입력하세요"
   ],
   "metadata": {
    "id": "oKjwoSm36xz0"
   },
   "outputs": [],
   "execution_count": null
  },
  {
   "cell_type": "code",
   "source": [
    "tools = [TavilyAnswer(max_results=5, name=\"Intermediate Answer\")] # 도구 이름을 설정하여 나중에 에이전트가 이 도구를 참조할 때 사용\n",
    "prompt = hub.pull(\"hwchase17/self-ask-with-search\") # 랭체인에서 제공하는 프롬프트 허브에서 self-ask-with-search 프롬프트를 가져옵니\n",
    "\n",
    "agent = create_self_ask_with_search_agent(llm, tools, prompt) # \"Self Ask With Search\" 기능을 구현하는 에이전트를 생성\n",
    "\n",
    "agent_executor = AgentExecutor(agent=agent, tools=tools, handle_parsing_errors=True) #AgentExecutor 이용하여 에이전트 사용\n",
    "agent_executor.invoke({\"input\": \"AI Agent를 세 문장으로 설명해줘\"})"
   ],
   "metadata": {
    "colab": {
     "base_uri": "https://localhost:8080/"
    },
    "id": "C0OxjoRy6c_H",
    "outputId": "877b24d2-5bc3-4517-e501-b080f41e347f"
   },
   "outputs": [],
   "execution_count": null
  },
  {
   "cell_type": "code",
   "source": [
    "# ReAct document store\n",
    "from langchain.docstore.wikipedia import Wikipedia # 문서 저장소로 위키피디아 이용\n",
    "from langchain.agents import Tool\n",
    "from langchain.agents.react.base import DocstoreExplorer # 문서가 저장된 데이터베이스(위키피디아)를 탐색하는 도구\n",
    "\n",
    "docstore=DocstoreExplorer(Wikipedia())\n",
    "tools = [\n",
    "  Tool(\n",
    "    name=\"Search\",\n",
    "    func=docstore.search,  # 용어에 대한 키워드 기반의 검색, 사용자가 정확히 무엇을 찾고자 하는지 모를 때 유용\n",
    "    description=\"docstore에서 용어를 검색하세요.\",\n",
    "  ),\n",
    "  Tool(\n",
    "    name=\"Lookup\",\n",
    "    func=docstore.lookup, # 고유하게 식별할 수 있는 키를 이용한 검색, 특정 문서(또는 항목)를 정확하게 찾을 때 사용\n",
    "    description=\"docstore에서 용어 검색.\",\n",
    "  )\n",
    "] # 에이전트가 사용할 수 있는 도구를 정의"
   ],
   "metadata": {
    "id": "GY_iuYwa7NIp",
    "colab": {
     "base_uri": "https://localhost:8080/"
    },
    "outputId": "3bc5513a-fe63-4675-f338-9e60140ca0f2"
   },
   "outputs": [],
   "execution_count": null
  },
  {
   "cell_type": "code",
   "source": [
    "react = initialize_agent(tools = tools,\n",
    "                         llm = llm,\n",
    "                         agent = AgentType.REACT_DOCSTORE, # 에이전트 유형을 ReAct document store로 지정\n",
    "                         handle_parsing_errors=True, # 에이전트가 작업을 수행하는 동안 발생하는 구문 오류(Parsing Errors)를 처리\n",
    "                         max_iterations=1, # 에이전트가 최대 몇 번까지 작업을 반복할지 지정\n",
    "                         max_execution_time=1, # 에이전트가 작업을 수행하는 최대 시간을 초 단위로 설정\n",
    "                         verbose = True,) # 랭체인 에이전트 초기화"
   ],
   "metadata": {
    "id": "Wmx_blJOMfhZ"
   },
   "outputs": [],
   "execution_count": null
  },
  {
   "cell_type": "code",
   "source": [
    "def query_data(query):\n",
    "    try:\n",
    "        response = react.invoke(query)  # 에이전트에게 쿼리 전달\n",
    "        print(\"----------------------\", response)  # 결과 출력(디버깅용)\n",
    "        return response  # 검색 결과 반환\n",
    "    except Exception as e:\n",
    "        print(f\"Error: {e}\")  # 에러 메시지를 출력\n",
    "        raise  # 에러 다시 발생(추가 디버깅 용도)\n",
    "\n",
    "query = \"밍크 선인장 키우는 방법은?\"\n",
    "response = query_data(query)\n",
    "print(response['output']) # 에이전트의 최종 답변 출력"
   ],
   "metadata": {
    "colab": {
     "base_uri": "https://localhost:8080/"
    },
    "id": "djzJKErqMjS7",
    "outputId": "2faccfdb-0008-4421-d28e-4262d3c6902a"
   },
   "outputs": [],
   "execution_count": null
  }
 ]
}
